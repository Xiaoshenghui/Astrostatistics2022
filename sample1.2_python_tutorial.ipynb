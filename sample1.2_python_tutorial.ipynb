{
 "cells": [
  {
   "cell_type": "code",
   "execution_count": 2,
   "id": "52626eab",
   "metadata": {},
   "outputs": [],
   "source": [
    "import numpy as np"
   ]
  },
  {
   "cell_type": "code",
   "execution_count": 27,
   "id": "following-print",
   "metadata": {},
   "outputs": [
    {
     "name": "stdout",
     "output_type": "stream",
     "text": [
      "[[[1 1]\n",
      "  [2 2]\n",
      "  [3 3]]\n",
      "\n",
      " [[4 4]\n",
      "  [5 5]\n",
      "  [6 6]]]\n",
      "(2, 3, 2)\n",
      "[[[1 4]\n",
      "  [2 5]\n",
      "  [3 6]]\n",
      "\n",
      " [[1 4]\n",
      "  [2 5]\n",
      "  [3 6]]]\n",
      "(2, 3, 2)\n",
      "[[[ 1  1]\n",
      "  [ 4  4]\n",
      "  [ 9  9]]\n",
      "\n",
      " [[16 16]\n",
      "  [25 25]\n",
      "  [36 36]]]\n",
      "[[ 36 174]\n",
      " [ 78 405]]\n"
     ]
    }
   ],
   "source": [
    "#array operation\n",
    "a= np.array([[[1,1],[2,2],[3,3]],[[4,4],[5,5],[6,6]]])\n",
    "print(a)\n",
    "print(np.shape(a))\n",
    "b=a.T\n",
    "print(b)\n",
    "print(np.shape(b))\n",
    "c=a*a\n",
    "print(c)\n",
    "a=np.array([[1,2,3],[4,5,6]])\n",
    "b=a.T                   #'.T'为取倒置\n",
    "d=np.dot(a,b**2)        #dot为点乘\n",
    "print(d)"
   ]
  },
  {
   "cell_type": "code",
   "execution_count": 28,
   "id": "fa3d826a",
   "metadata": {},
   "outputs": [
    {
     "name": "stdout",
     "output_type": "stream",
     "text": [
      "<class 'tuple'>\n"
     ]
    }
   ],
   "source": [
    "#tuple\n",
    "a=(23,[34,1,7],'ee')\n",
    "print(type(a))"
   ]
  },
  {
   "cell_type": "code",
   "execution_count": 31,
   "id": "a9d5793e",
   "metadata": {},
   "outputs": [
    {
     "name": "stdout",
     "output_type": "stream",
     "text": [
      "{'one': 1, 'two': 2, 'three': 3}\n",
      "2\n",
      "{'one': 1, 'two': 2, 'three': 33, 'four': 4}\n"
     ]
    }
   ],
   "source": [
    "#dictionary\n",
    "d={'one':1,'two':2,'three':3}\n",
    "print(d)\n",
    "print(d['two'])\n",
    "d['four']=4\n",
    "d['three']=33\n",
    "print(d)"
   ]
  },
  {
   "cell_type": "markdown",
   "id": "6d31d90b",
   "metadata": {},
   "source": [
    "How to write a loop in python"
   ]
  },
  {
   "cell_type": "code",
   "execution_count": 34,
   "id": "28ad7ccc",
   "metadata": {},
   "outputs": [
    {
     "name": "stdout",
     "output_type": "stream",
     "text": [
      "0\n",
      "1\n",
      "2\n",
      "3\n",
      "4\n",
      "5\n",
      "6\n",
      "7\n",
      "8\n",
      "9\n",
      " \n",
      "0\n",
      "3\n",
      "6\n",
      "9\n"
     ]
    }
   ],
   "source": [
    "#for loop\n",
    "for i in range (10):\n",
    "    print(i)\n",
    "print(' ')\n",
    "for i in range(0,10,3):\n",
    "    print(i)"
   ]
  },
  {
   "cell_type": "code",
   "execution_count": 48,
   "id": "6eba2ffb",
   "metadata": {},
   "outputs": [
    {
     "name": "stdout",
     "output_type": "stream",
     "text": [
      "0 0.0\n",
      "1\n",
      "2 1.0\n",
      "3 1.0\n",
      "4 2.0\n",
      "5 1.0\n",
      "6 3.0\n",
      "7\n",
      "8 4.0\n",
      "9 3.0\n"
     ]
    }
   ],
   "source": [
    "#if else\n",
    "for i in range(10):\n",
    "    if np.mod(i,2)==0:     #mod为取余数\n",
    "        print(i,i/2)\n",
    "    elif np.mod(i,3)==0:\n",
    "        print(i,i/3)\n",
    "    elif np.mod(i,5)==0:\n",
    "        print(i,i/5)\n",
    "    else:\n",
    "        print(i)"
   ]
  },
  {
   "cell_type": "code",
   "execution_count": 138,
   "id": "e6c71fdc",
   "metadata": {},
   "outputs": [
    {
     "name": "stdout",
     "output_type": "stream",
     "text": [
      "Using matplotlib backend: TkAgg\n",
      "%pylab is deprecated, use %matplotlib inline and import the required libraries.\n",
      "Populating the interactive namespace from numpy and matplotlib\n"
     ]
    }
   ],
   "source": [
    "#%matplotlib inline\n",
    "%pylab\n",
    "\n",
    "import matplotlib.pyplot as plt\n",
    "import matplotlib\n",
    "matplotlib.rc('xtick',labelsize=12)   #X轴刻度字体大小\n",
    "matplotlib.rc('ytick',labelsize=12)\n",
    "\n",
    "x=np.random.rand(10)    #X轴随机取10个点,默认范围0-1\n",
    "x=np.sort(x)\n",
    "y=np.arctan(x)     #函数关系\n",
    "\n",
    "fig=plt.figure()   #调用画板，大小默认\n",
    "ax=fig.add_subplot(111)   #分割画板，(纵向，横向，位置)\n",
    "ax.plot(x,y,'k+',markersize=12)   #取的点的形状('+')及大小\n",
    "ax.plot(x,y,'r--')               #曲线为虚线\n",
    "ax.set_xlabel('X',fontsize=12)   #X轴的标注，及字体大小\n",
    "ax.set_ylabel(r'$\\arctan{\\theta}$',fontsize=12)   #Y轴标注及字体大小\n",
    "fig.show()"
   ]
  },
  {
   "cell_type": "code",
   "execution_count": 18,
   "id": "17f90f8f",
   "metadata": {},
   "outputs": [],
   "source": [
    "x=np.random.normal(0,10,size=10000)   #随机正态散点图，x的大小为10000,即随机取了10000个点，0为质心，10为弥散程度\n",
    "#类似于在10000s内，每秒打一个点，即时变曲线。\n",
    "\n",
    "xgrid=np.arange(-100,105,5)   #统计曲线图，(-100,105)为X轴范围，5为间隔大小\n",
    "xcenter=(xgrid[1:]+xgrid[:-1])/2   #曲线横轴，每个间隔的中间点相连。如间隔[15,20),就取17.5。\n",
    "hx,xedge=np.histogram(x,bins=xgrid)   #直方图\n",
    "\n",
    "fig=plt.figure(figsize=[10,4])   #调用画板，设置画板大小，14为画板横向宽，6为画板纵向宽\n",
    "ax=fig.add_subplot(121)   #分割画板，(纵向，横向，位置)，横向分割成两份，放在第一份。\n",
    "ax.plot(x,'k.')   #取的点的形状为'.'，大小默认。\n",
    "\n",
    "ax=fig.add_subplot(122)\n",
    "ax.step(xedge[1:],hx,'k-')   #左闭右开区间，点的形状为‘-’。\n",
    "ax.plot(xcenter,hx,'r-')   #曲线为实线\n",
    "ax.set_xlabel(r'$y$',fontsize=12)   #x轴标注及字体大小\n",
    "fig.show()"
   ]
  },
  {
   "cell_type": "code",
   "execution_count": 4,
   "id": "4996339c",
   "metadata": {},
   "outputs": [
    {
     "name": "stdout",
     "output_type": "stream",
     "text": [
      "Using matplotlib backend: TkAgg\n",
      "%pylab is deprecated, use %matplotlib inline and import the required libraries.\n",
      "Populating the interactive namespace from numpy and matplotlib\n"
     ]
    },
    {
     "name": "stderr",
     "output_type": "stream",
     "text": [
      "/home/xsh/.local/lib/python3.9/site-packages/IPython/core/magics/pylab.py:162: UserWarning: pylab import has clobbered these variables: ['f']\n",
      "`%matplotlib` prevents importing * from pylab and numpy\n",
      "  warn(\"pylab import has clobbered these variables: %s\"  % clobbered +\n"
     ]
    },
    {
     "name": "stdout",
     "output_type": "stream",
     "text": [
      "escape 0.147 sec\n"
     ]
    }
   ],
   "source": [
    "#%matplotlib inline\n",
    "%pylab\n",
    "\n",
    "import matplotlib.pyplot as plt\n",
    "import matplotlib\n",
    "#matplotlib.rc('xtick',labelsize=12)   #X轴刻度字体大小\n",
    "#matplotlib.rc('ytick',labelsize=12)\n",
    "\n",
    "import numpy as np\n",
    "\n",
    "import scipy.stats as stats\n",
    "import time\n",
    "\n",
    "start=time.time()\n",
    "mu=np.array([1,1])\n",
    "s1=1\n",
    "s2=0.2\n",
    "rho=0.8   #s1,s2和rho的相对大小为图像的倾角，实际大小为图像的放大程度\n",
    "sig=np.array([[s1,rho*np.sqrt(s1*s2)],[rho*np.sqrt(s1*s2),s2]])\n",
    "#generate random numbers from 2D normal distribution\n",
    "xx=np.random.multivariate_normal(mu,sig,100000)   #产生随机多元(xx表示二元)正态分布数据，mu为质心，sig为弥散程度\n",
    "xgrid=np.arange(-2,4,0.2)   #x轴区间[-2,4]，间隔大小0.2\n",
    "ygrid=np.arange(-2,4,0.2)   #y轴区间[-2,4]，间隔大小0.2\n",
    "xcenter=(xgrid[0:-1]+xgrid[1:])/2   #曲线横轴取点\n",
    "ycenter=(ygrid[0:-1]+ygrid[1:])/2   #曲线纵轴取点\n",
    "#make 2d histogram\n",
    "hxx,xedge,yedge=np.histogram2d(xx[:,0],xx[:,1],bins=[xgrid,ygrid])   #画二维直方图\n",
    "\n",
    "fig=plt.figure(figsize=[14,6])   #调用画布，画布大小\n",
    "plt.set_cmap('jet')\n",
    "ax=fig.add_subplot(121)   #分割画布\n",
    "ax.contour(xcenter,ycenter,hxx.T)   #设置轮廓\n",
    "ax.set_xlabel(r'$x_1$',fontsize=20)   #横轴标注及大小\n",
    "ax.set_ylabel(r'$x_2$',fontsize=20)   #纵轴标注及大小\n",
    "\n",
    "ax=fig.add_subplot(122)   #分割画布\n",
    "e=ax.imshow(hxx.T,extent=[xcenter[0],xcenter[-1],ycenter[-1],ycenter[0]])   #图在框框的分布(压缩？)\n",
    "plt.colorbar(e)               #添加颜色对照条\n",
    "ax.set_ylim([ycenter[0],ycenter[-1]])   #在框框中纵向移动图\n",
    "ax.set_xlabel(r'$x_1$',fontsize=20)   #横轴标注及大小\n",
    "ax.set_ylabel(r'$x_2$',fontsize=20)   #纵轴标注及大小\n",
    "\n",
    "fig.show()\n",
    "print('escape %(s).3f sec' % {'s':time.time()-start})"
   ]
  },
  {
   "cell_type": "code",
   "execution_count": 22,
   "id": "646534dc",
   "metadata": {},
   "outputs": [
    {
     "name": "stdout",
     "output_type": "stream",
     "text": [
      "['1996E', '0.43', '22.81(0.21)', '22.72(0.23)', '-0.08(0.19)', '0.31', '41.74(0.28)']\n",
      "['1996H', '0.62', '23.23(0.19)', '23.56(0.18)', '-0.42(0.16)', '0.00', '42.98(0.17)']\n",
      "['1996I', '0.57', '23.35(0.28)', '23.59(0.26)', '-0.06(0.26)', '0.00', '42.76(0.19)']\n",
      "['1996J', '0.30', '22.23(0.12)', '22.21(0.11)', '-0.22(0.10)', '0.24', '41.38(0.24)']\n",
      "['1996K', '0.38', '22.64(0.12)', '22.84(0.14)', '0.29(0.06)', '0.00', '41.63(0.20)']\n",
      "['1996U', '0.43', '22.78(0.22)', '22.98(0.30)', '-0.52(0.29)', '0.00', '42.55(0.25)']\n",
      "['1997ce', '0.44', '22.85(0.09)', '22.95(0.09)', '0.07(0.08)', '0.00', '41.95(0.17)']\n",
      "['1997cj', '0.50', '23.19(0.11)', '23.29(0.12)', '-0.04(0.11)', '0.00', '42.40(0.17)']\n",
      "['1997ck', '0.97', '24.78(0.25)', '\\\\ldots', '-0.19(0.23)', '\\\\ldots', '44.39(0.30)']\n",
      "['1995K', '0.48', '22.91(0.13)', '23.08(0.20)', '-0.33(0.26)', '0.00', '42.45(0.17)']\n"
     ]
    }
   ],
   "source": [
    "#read files\n",
    "\n",
    "f=open('/home/xsh/下载/Riess1998_Tab5.txt')\n",
    "#line=f.readline()\n",
    "#print(line)\n",
    "for line in f:\n",
    "    cols=line.split()\n",
    "    print(cols)\n",
    "f.close()"
   ]
  },
  {
   "cell_type": "code",
   "execution_count": 23,
   "id": "353b33a0",
   "metadata": {},
   "outputs": [
    {
     "name": "stdout",
     "output_type": "stream",
     "text": [
      " col1  col2     col3        col4        col5     col6      col7   \n",
      "------ ---- ----------- ----------- ----------- ------ -----------\n",
      " 1996E 0.43 22.81(0.21) 22.72(0.23) -0.08(0.19)   0.31 41.74(0.28)\n",
      " 1996H 0.62 23.23(0.19) 23.56(0.18) -0.42(0.16)   0.00 42.98(0.17)\n",
      " 1996I 0.57 23.35(0.28) 23.59(0.26) -0.06(0.26)   0.00 42.76(0.19)\n",
      " 1996J  0.3 22.23(0.12) 22.21(0.11) -0.22(0.10)   0.24 41.38(0.24)\n",
      " 1996K 0.38 22.64(0.12) 22.84(0.14)  0.29(0.06)   0.00 41.63(0.20)\n",
      " 1996U 0.43 22.78(0.22) 22.98(0.30) -0.52(0.29)   0.00 42.55(0.25)\n",
      "1997ce 0.44 22.85(0.09) 22.95(0.09)  0.07(0.08)   0.00 41.95(0.17)\n",
      "1997cj  0.5 23.19(0.11) 23.29(0.12) -0.04(0.11)   0.00 42.40(0.17)\n",
      "1997ck 0.97 24.78(0.25)      \\ldots -0.19(0.23) \\ldots 44.39(0.30)\n",
      " 1995K 0.48 22.91(0.13) 23.08(0.20) -0.33(0.26)   0.00 42.45(0.17)\n"
     ]
    }
   ],
   "source": [
    "#read ASCII file in a more comfortable way\n",
    "\n",
    "from astropy.table import Table\n",
    "\n",
    "data=Table.read('/home/xsh/下载/Riess1998_Tab5.txt',format=\"ascii.no_header\")\n",
    "print(data)"
   ]
  },
  {
   "cell_type": "code",
   "execution_count": 2,
   "id": "aae77229",
   "metadata": {},
   "outputs": [],
   "source": [
    "#write ASCII file\n",
    "\n",
    "import csv\n",
    "\n",
    "rows=[[32,33,34],['a','b','c']]\n",
    "\n",
    "with open(\"/home/xsh/test.csv\",\"wt\") as f:\n",
    "    c_w=csv.writer(f,quoting=csv.QUOTE_NONE)\n",
    "    c_w.writerows(rows)"
   ]
  },
  {
   "cell_type": "code",
   "execution_count": 32,
   "id": "73930469",
   "metadata": {},
   "outputs": [
    {
     "name": "stderr",
     "output_type": "stream",
     "text": [
      "/tmp/ipykernel_3593/1303598421.py:15: RuntimeWarning: invalid value encountered in log\n",
      "  e=ax.imshow(np.log(im))\n"
     ]
    }
   ],
   "source": [
    "#read a fits image file\n",
    "\n",
    "import astropy.io.fits as fits\n",
    "\n",
    "def readImage(filename):\n",
    "    hdulist=fits.open(filename)\n",
    "    im=hdulist[0].data.copy()\n",
    "    hdulist.close()\n",
    "    return im\n",
    "\n",
    "im=readImage('/home/xsh/下载/image.fits')\n",
    "fig=plt.figure()\n",
    "plt.set_cmap('gray')\n",
    "ax=fig.add_subplot(111)\n",
    "e=ax.imshow(np.log(im))\n",
    "plt.colorbar(e)\n",
    "#ax.set_ylim()\n",
    "fig.show()"
   ]
  },
  {
   "cell_type": "code",
   "execution_count": null,
   "id": "6628d996",
   "metadata": {},
   "outputs": [],
   "source": [
    "#write an image from a fits file\n",
    "\n",
    "import numpy\n",
    "from astropy.io import fits as pyfits\n",
    "\n",
    "fitsfile = pyfits.open('/home/xsh/下载/image.fits',mode='update')\n",
    "image=fitsfile[0].data\n",
    "header=fitsfile[0].header\n",
    "\n",
    "#write image to a fits file\n",
    "\n",
    "pyfits.writeto('/home/xsh/image_2.fits',image,header)"
   ]
  },
  {
   "cell_type": "code",
   "execution_count": 34,
   "id": "f482dcfe",
   "metadata": {
    "scrolled": true
   },
   "outputs": [
    {
     "name": "stdout",
     "output_type": "stream",
     "text": [
      "1316.8409611736695\n"
     ]
    }
   ],
   "source": [
    "#Read table date from a fit file\n",
    "\n",
    "def loadData(filename):\n",
    "    #read fits data\n",
    "    tchfits=fits.open(filename)\n",
    "    tabl=tchfits[1].data.copy()\n",
    "    return tabl\n",
    "\n",
    "filename='/home/xsh/下载/ComaCluster.fits'\n",
    "coma=loadData(filename)\n",
    "cz=coma.czA[(coma.czA<20000)&(coma.czA>0)]\n",
    "sig_cz=np.var(cz)\n",
    "print(np.sqrt(sig_cz))\n",
    "zgrid=np.arange(2000,12000,750)\n",
    "h,xedge=np.histogram(cz,bins=zgrid)\n",
    "fig=plt.figure(figsize=[6,4])\n",
    "ax=fig.add_subplot(111)\n",
    "ax.plot(zgrid[0:-1]+250,h,'k*-')\n",
    "ax.set_xlabel('redshift(km/s)')\n",
    "fig.show()"
   ]
  },
  {
   "cell_type": "code",
   "execution_count": 23,
   "id": "ea80250f",
   "metadata": {},
   "outputs": [
    {
     "name": "stdout",
     "output_type": "stream",
     "text": [
      " _RAJ2000 _DEJ2000  S    ID   f_ID  PT ...  czA   e_czA  S/N  MType A06 Simbad\n",
      "   deg      deg                        ... km / s km / s                      \n",
      "--------- -------- --- ------ ---- --- ... ------ ------ ---- ----- --- ------\n",
      " 194.8585 28.01778  Mm 132151        4 ...   5486    130  6.3   ImV   1 Simbad\n",
      "194.87846 28.04187  Mm 133494        2 ...   6549     77 44.6   E     0 Simbad\n",
      "194.88221 27.96338  Mm 190797        3 ...   8860     74  5.0   dE    1 Simbad\n",
      "194.89312 27.99539  Mm 191169        2 ...   5225     61 15.3   dE    1 Simbad\n",
      "194.89679 27.98063  Mm 192254        3 ...   7355    110  4.5   dE    1 Simbad\n",
      "194.90867 27.94901  Mm 194749        3 ...   6128     79  7.1   dE    1 Simbad\n",
      "      ...      ... ...    ...  ... ... ...    ...    ...  ...   ... ...    ...\n",
      "195.09079 28.07819  PM  32799        3 ...     --     --  nan   cE    1 Simbad\n",
      "195.10258 28.06191  PM  20411        3 ...     --     --  nan         1 Simbad\n",
      "195.13754 27.99557  PM 160003        2 ...     --     --  nan         1 Simbad\n",
      "194.91971 27.95081  PB 195768        4 ...     --     --  nan   E     1 Simbad\n",
      "195.08542 27.95002  PB 161665        4 ...     --     --  nan   Sp    1 Simbad\n",
      "195.11896 27.98311  PB 162881        4 ...     --     --  nan   E     1 Simbad\n",
      "195.18246 27.98334  PB 151841        3 ...     --     --  nan         1 Simbad\n",
      "Length = 101 rows\n",
      "1316.8409611736695\n"
     ]
    }
   ],
   "source": [
    "from astropy.table import Table\n",
    "filename='/home/xsh/下载/ComaCluster.fits'\n",
    "coma=Table.read(filename)\n",
    "print(coma)\n",
    "cz=coma['czA'][(coma['czA']<20000)&(coma['czA']>0)]\n",
    "sig_cz=np.var(cz)\n",
    "print(np.sqrt(sig_cz))\n",
    "zgrid=np.arange(2000,12000,750)\n",
    "h,xedge=np.histogram(cz,bins=zgrid)\n",
    "fig=plt.figure(figsize=[6,4])\n",
    "ax=fig.add_subplot(111)\n",
    "ax.plot(zgrid[0:-1]+250,h,'k*-')\n",
    "ax.set_xlabel('redshift(km/s)')\n",
    "fig.show()"
   ]
  },
  {
   "cell_type": "code",
   "execution_count": 25,
   "id": "49fac5fd",
   "metadata": {},
   "outputs": [],
   "source": [
    "#read s spectrum fits file\n",
    "\n",
    "filename='/home/xsh/下载/351110104.fits'\n",
    "tchfits=fits.open(filename)\n",
    "log_wv0=tchfits[0].header['CRVAL1']\n",
    "log_dwv=tchfits[0].header['CD1_1']\n",
    "\n",
    "sp=tchfits[0].data.copy()\n",
    "\n",
    "N=len(sp[0,:])\n",
    "wv=10**(log_wv0+np.arange(0,N,1)*log_dwv)\n",
    "\n",
    "fig=plt.figure(figsize=[10,4])\n",
    "ax=fig.add_subplot(111)\n",
    "ax.plot(wv,sp[0,:],'k-')\n",
    "ax.set_xlim([4000,9000])\n",
    "fig.show()"
   ]
  },
  {
   "cell_type": "code",
   "execution_count": 29,
   "id": "36ccaf63",
   "metadata": {},
   "outputs": [
    {
     "ename": "OSError",
     "evalue": "File exists: table3.fits",
     "output_type": "error",
     "traceback": [
      "\u001b[0;31m---------------------------------------------------------------------------\u001b[0m",
      "\u001b[0;31mOSError\u001b[0m                                   Traceback (most recent call last)",
      "Input \u001b[0;32mIn [29]\u001b[0m, in \u001b[0;36m<module>\u001b[0;34m\u001b[0m\n\u001b[1;32m      3\u001b[0m \u001b[38;5;28;01mfrom\u001b[39;00m \u001b[38;5;21;01mastropy\u001b[39;00m\u001b[38;5;21;01m.\u001b[39;00m\u001b[38;5;21;01mtable\u001b[39;00m \u001b[38;5;28;01mimport\u001b[39;00m Table\n\u001b[1;32m      4\u001b[0m t\u001b[38;5;241m=\u001b[39mTable([[\u001b[38;5;241m1\u001b[39m,\u001b[38;5;241m2\u001b[39m],[\u001b[38;5;241m4\u001b[39m,\u001b[38;5;241m5\u001b[39m],[\u001b[38;5;241m7\u001b[39m,\u001b[38;5;241m8\u001b[39m]],names\u001b[38;5;241m=\u001b[39m(\u001b[38;5;124m'\u001b[39m\u001b[38;5;124ma\u001b[39m\u001b[38;5;124m'\u001b[39m,\u001b[38;5;124m'\u001b[39m\u001b[38;5;124mb\u001b[39m\u001b[38;5;124m'\u001b[39m,\u001b[38;5;124m'\u001b[39m\u001b[38;5;124mc\u001b[39m\u001b[38;5;124m'\u001b[39m))\n\u001b[0;32m----> 5\u001b[0m \u001b[43mt\u001b[49m\u001b[38;5;241;43m.\u001b[39;49m\u001b[43mwrite\u001b[49m\u001b[43m(\u001b[49m\u001b[38;5;124;43m'\u001b[39;49m\u001b[38;5;124;43mtable3.fits\u001b[39;49m\u001b[38;5;124;43m'\u001b[39;49m\u001b[43m,\u001b[49m\u001b[38;5;28;43mformat\u001b[39;49m\u001b[38;5;241;43m=\u001b[39;49m\u001b[38;5;124;43m'\u001b[39;49m\u001b[38;5;124;43mfits\u001b[39;49m\u001b[38;5;124;43m'\u001b[39;49m\u001b[43m)\u001b[49m\n\u001b[1;32m      7\u001b[0m c1\u001b[38;5;241m=\u001b[39mfits\u001b[38;5;241m.\u001b[39mColumn(name\u001b[38;5;241m=\u001b[39m\u001b[38;5;124m'\u001b[39m\u001b[38;5;124ma\u001b[39m\u001b[38;5;124m'\u001b[39m,array\u001b[38;5;241m=\u001b[39mnp\u001b[38;5;241m.\u001b[39marray([\u001b[38;5;241m1\u001b[39m,\u001b[38;5;241m2\u001b[39m]),\u001b[38;5;28mformat\u001b[39m\u001b[38;5;241m=\u001b[39m\u001b[38;5;124m'\u001b[39m\u001b[38;5;124mK\u001b[39m\u001b[38;5;124m'\u001b[39m)\n\u001b[1;32m      8\u001b[0m c2\u001b[38;5;241m=\u001b[39mfits\u001b[38;5;241m.\u001b[39mColumn(name\u001b[38;5;241m=\u001b[39m\u001b[38;5;124m'\u001b[39m\u001b[38;5;124mb\u001b[39m\u001b[38;5;124m'\u001b[39m,array\u001b[38;5;241m=\u001b[39mnp\u001b[38;5;241m.\u001b[39marray([\u001b[38;5;241m4\u001b[39m,\u001b[38;5;241m5\u001b[39m]),\u001b[38;5;28mformat\u001b[39m\u001b[38;5;241m=\u001b[39m\u001b[38;5;124m'\u001b[39m\u001b[38;5;124mK\u001b[39m\u001b[38;5;124m'\u001b[39m)\n",
      "File \u001b[0;32m/usr/lib/python3/dist-packages/astropy/table/connect.py:127\u001b[0m, in \u001b[0;36mTableWrite.__call__\u001b[0;34m(self, serialize_method, *args, **kwargs)\u001b[0m\n\u001b[1;32m    125\u001b[0m instance \u001b[38;5;241m=\u001b[39m \u001b[38;5;28mself\u001b[39m\u001b[38;5;241m.\u001b[39m_instance\n\u001b[1;32m    126\u001b[0m \u001b[38;5;28;01mwith\u001b[39;00m serialize_method_as(instance, serialize_method):\n\u001b[0;32m--> 127\u001b[0m     \u001b[43mregistry\u001b[49m\u001b[38;5;241;43m.\u001b[39;49m\u001b[43mwrite\u001b[49m\u001b[43m(\u001b[49m\u001b[43minstance\u001b[49m\u001b[43m,\u001b[49m\u001b[43m \u001b[49m\u001b[38;5;241;43m*\u001b[39;49m\u001b[43margs\u001b[49m\u001b[43m,\u001b[49m\u001b[43m \u001b[49m\u001b[38;5;241;43m*\u001b[39;49m\u001b[38;5;241;43m*\u001b[39;49m\u001b[43mkwargs\u001b[49m\u001b[43m)\u001b[49m\n",
      "File \u001b[0;32m/usr/lib/python3/dist-packages/astropy/io/registry.py:563\u001b[0m, in \u001b[0;36mwrite\u001b[0;34m(data, format, *args, **kwargs)\u001b[0m\n\u001b[1;32m    559\u001b[0m     \u001b[38;5;28mformat\u001b[39m \u001b[38;5;241m=\u001b[39m _get_valid_format(\n\u001b[1;32m    560\u001b[0m         \u001b[38;5;124m'\u001b[39m\u001b[38;5;124mwrite\u001b[39m\u001b[38;5;124m'\u001b[39m, data\u001b[38;5;241m.\u001b[39m\u001b[38;5;18m__class__\u001b[39m, path, fileobj, args, kwargs)\n\u001b[1;32m    562\u001b[0m writer \u001b[38;5;241m=\u001b[39m get_writer(\u001b[38;5;28mformat\u001b[39m, data\u001b[38;5;241m.\u001b[39m\u001b[38;5;18m__class__\u001b[39m)\n\u001b[0;32m--> 563\u001b[0m \u001b[43mwriter\u001b[49m\u001b[43m(\u001b[49m\u001b[43mdata\u001b[49m\u001b[43m,\u001b[49m\u001b[43m \u001b[49m\u001b[38;5;241;43m*\u001b[39;49m\u001b[43margs\u001b[49m\u001b[43m,\u001b[49m\u001b[43m \u001b[49m\u001b[38;5;241;43m*\u001b[39;49m\u001b[38;5;241;43m*\u001b[39;49m\u001b[43mkwargs\u001b[49m\u001b[43m)\u001b[49m\n",
      "File \u001b[0;32m/usr/lib/python3/dist-packages/astropy/io/fits/connect.py:433\u001b[0m, in \u001b[0;36mwrite_table_fits\u001b[0;34m(input, output, overwrite)\u001b[0m\n\u001b[1;32m    431\u001b[0m         os\u001b[38;5;241m.\u001b[39mremove(output)\n\u001b[1;32m    432\u001b[0m     \u001b[38;5;28;01melse\u001b[39;00m:\n\u001b[0;32m--> 433\u001b[0m         \u001b[38;5;28;01mraise\u001b[39;00m \u001b[38;5;167;01mOSError\u001b[39;00m(\u001b[38;5;124mf\u001b[39m\u001b[38;5;124m\"\u001b[39m\u001b[38;5;124mFile exists: \u001b[39m\u001b[38;5;132;01m{\u001b[39;00moutput\u001b[38;5;132;01m}\u001b[39;00m\u001b[38;5;124m\"\u001b[39m)\n\u001b[1;32m    435\u001b[0m table_hdu\u001b[38;5;241m.\u001b[39mwriteto(output)\n",
      "\u001b[0;31mOSError\u001b[0m: File exists: table3.fits"
     ]
    }
   ],
   "source": [
    "#write table fits\n",
    "\n",
    "from astropy.table import Table\n",
    "t=Table([[1,2],[4,5],[7,8]],names=('a','b','c'))\n",
    "t.write('table3.fits',format='fits')\n",
    "\n",
    "c1=fits.Column(name='a',array=np.array([1,2]),format='K')\n",
    "c2=fits.Column(name='b',array=np.array([4,5]),format='K')\n",
    "c3=fits.Column(name='c',array=np.array([7,8]),format='K')\n",
    "t=fits.BinTableHDU.from_columns([c1,c2,c3])\n",
    "t.writeto('table4.fits')"
   ]
  },
  {
   "cell_type": "code",
   "execution_count": null,
   "id": "4c5810bd",
   "metadata": {},
   "outputs": [],
   "source": []
  }
 ],
 "metadata": {
  "celltoolbar": "Tags",
  "kernelspec": {
   "display_name": "Python 3 (ipykernel)",
   "language": "python",
   "name": "python3"
  },
  "language_info": {
   "codemirror_mode": {
    "name": "ipython",
    "version": 3
   },
   "file_extension": ".py",
   "mimetype": "text/x-python",
   "name": "python",
   "nbconvert_exporter": "python",
   "pygments_lexer": "ipython3",
   "version": "3.9.7"
  },
  "toc": {
   "base_numbering": 1,
   "nav_menu": {},
   "number_sections": true,
   "sideBar": true,
   "skip_h1_title": false,
   "title_cell": "Table of Contents",
   "title_sidebar": "Contents",
   "toc_cell": false,
   "toc_position": {},
   "toc_section_display": true,
   "toc_window_display": false
  }
 },
 "nbformat": 4,
 "nbformat_minor": 5
}
